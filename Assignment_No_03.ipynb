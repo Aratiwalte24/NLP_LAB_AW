{
 "cells": [
  {
   "cell_type": "markdown",
   "metadata": {},
   "source": [
    "#Assignment no 3\n",
    "#Name : Arati Vijay Walte\n",
    "#Roll No : 67\n",
    "#Batch : B4\n",
    "#Title : Named Entity Recognition (NER) using spacy and NLTK."
   ]
  },
  {
   "cell_type": "code",
   "execution_count": 1,
   "metadata": {},
   "outputs": [],
   "source": [
    "#import library\n",
    "import spacy"
   ]
  },
  {
   "cell_type": "code",
   "execution_count": 13,
   "metadata": {},
   "outputs": [],
   "source": [
    "raw_text=\"\"\"choosing to become an engineer can be driven by a passion for problem-solving, a desire to make a positive impact, and an interest in technical fields. It is a career path that offers opportunities for \n",
    "personal growth, professional development, and contributing to the betterment of society \"\"\""
   ]
  },
  {
   "cell_type": "code",
   "execution_count": 14,
   "metadata": {},
   "outputs": [],
   "source": [
    "NER = spacy.load(\"en_core_web_sm\", disable=[\"tok2vec\", \"tagger\", \"parser\", \"attribute_ruler\", \"lemmatizer\"])"
   ]
  },
  {
   "cell_type": "code",
   "execution_count": 15,
   "metadata": {},
   "outputs": [],
   "source": [
    "text= NER(raw_text)"
   ]
  },
  {
   "cell_type": "code",
   "execution_count": 16,
   "metadata": {},
   "outputs": [],
   "source": [
    "for w in text.ents:\n",
    "    print(w.text,w.label_)"
   ]
  },
  {
   "cell_type": "code",
   "execution_count": 17,
   "metadata": {},
   "outputs": [
    {
     "name": "stderr",
     "output_type": "stream",
     "text": [
      "c:\\Python311\\Lib\\site-packages\\spacy\\displacy\\__init__.py:213: UserWarning: [W006] No entities to visualize found in Doc object. If this is surprising to you, make sure the Doc was processed using a model that supports named entity recognition, and check the `doc.ents` property manually if necessary.\n",
      "  warnings.warn(Warnings.W006)\n"
     ]
    },
    {
     "data": {
      "text/html": [
       "<span class=\"tex2jax_ignore\"><div class=\"entities\" style=\"line-height: 2.5; direction: ltr\">choosing to become an engineer can be driven by a passion for problem-solving, a desire to make a positive impact, and an interest in technical fields. It is a career path that offers opportunities for <br>personal growth, professional development, and contributing to the betterment of society </div></span>"
      ],
      "text/plain": [
       "<IPython.core.display.HTML object>"
      ]
     },
     "metadata": {},
     "output_type": "display_data"
    }
   ],
   "source": [
    "spacy.displacy.render(text, style=\"ent\",jupyter=True)"
   ]
  },
  {
   "cell_type": "code",
   "execution_count": 18,
   "metadata": {},
   "outputs": [
    {
     "data": {
      "text/plain": [
       "'Nationalities or religious or political groups'"
      ]
     },
     "execution_count": 18,
     "metadata": {},
     "output_type": "execute_result"
    }
   ],
   "source": [
    "spacy.explain(u\"NORP\")"
   ]
  },
  {
   "cell_type": "markdown",
   "metadata": {},
   "source": [
    "#using NLTK"
   ]
  },
  {
   "cell_type": "code",
   "execution_count": 19,
   "metadata": {},
   "outputs": [],
   "source": [
    "import nltk\n",
    "from nltk.tokenize import word_tokenize\n",
    "from nltk.tag import pos_tag"
   ]
  },
  {
   "cell_type": "code",
   "execution_count": 20,
   "metadata": {},
   "outputs": [
    {
     "name": "stdout",
     "output_type": "stream",
     "text": [
      "(S\n",
      "  (PERSON Pierre/NNP)\n",
      "  (ORGANIZATION Vinken/NNP)\n",
      "  ,/,\n",
      "  61/CD\n",
      "  years/NNS\n",
      "  old/JJ\n",
      "  ,/,\n",
      "  will/MD\n",
      "  join/VB\n",
      "  the/DT\n",
      "  board/NN\n",
      "  as/IN\n",
      "  a/DT\n",
      "  nonexecutive/JJ\n",
      "  director/NN\n",
      "  Nov./NNP\n",
      "  29/CD\n",
      "  ./.)\n"
     ]
    },
    {
     "name": "stderr",
     "output_type": "stream",
     "text": [
      "[nltk_data] Downloading package treebank to\n",
      "[nltk_data]     C:\\Users\\Lenovo\\AppData\\Roaming\\nltk_data...\n",
      "[nltk_data]   Package treebank is already up-to-date!\n"
     ]
    }
   ],
   "source": [
    "nltk.download('treebank')\n",
    "sent = nltk.corpus.treebank.tagged_sents()\n",
    "print(nltk.ne_chunk(sent[0]))"
   ]
  },
  {
   "cell_type": "code",
   "execution_count": 21,
   "metadata": {},
   "outputs": [
    {
     "name": "stderr",
     "output_type": "stream",
     "text": [
      "[nltk_data] Downloading package punkt to\n",
      "[nltk_data]     C:\\Users\\Lenovo\\AppData\\Roaming\\nltk_data...\n",
      "[nltk_data]   Package punkt is already up-to-date!\n",
      "[nltk_data] Downloading package averaged_perceptron_tagger to\n",
      "[nltk_data]     C:\\Users\\Lenovo\\AppData\\Roaming\\nltk_data...\n",
      "[nltk_data]   Package averaged_perceptron_tagger is already up-to-\n",
      "[nltk_data]       date!\n"
     ]
    }
   ],
   "source": [
    "nltk.download('punkt')\n",
    "nltk.download('averaged_perceptron_tagger')\n",
    "raw_words= word_tokenize(raw_text)\n",
    "tags=pos_tag(raw_words)"
   ]
  },
  {
   "cell_type": "code",
   "execution_count": 22,
   "metadata": {},
   "outputs": [
    {
     "name": "stdout",
     "output_type": "stream",
     "text": [
      "(S\n",
      "  choosing/VBG\n",
      "  to/TO\n",
      "  become/VB\n",
      "  an/DT\n",
      "  engineer/NN\n",
      "  can/MD\n",
      "  be/VB\n",
      "  driven/VBN\n",
      "  by/IN\n",
      "  a/DT\n",
      "  passion/NN\n",
      "  for/IN\n",
      "  problem-solving/NN\n",
      "  ,/,\n",
      "  a/DT\n",
      "  desire/NN\n",
      "  to/TO\n",
      "  make/VB\n",
      "  a/DT\n",
      "  positive/JJ\n",
      "  impact/NN\n",
      "  ,/,\n",
      "  and/CC\n",
      "  an/DT\n",
      "  interest/NN\n",
      "  in/IN\n",
      "  technical/JJ\n",
      "  fields/NNS\n",
      "  ./.\n",
      "  It/PRP\n",
      "  is/VBZ\n",
      "  a/DT\n",
      "  career/NN\n",
      "  path/NN\n",
      "  that/IN\n",
      "  offers/VBZ\n",
      "  opportunities/NNS\n",
      "  for/IN\n",
      "  personal/JJ\n",
      "  growth/NN\n",
      "  ,/,\n",
      "  professional/JJ\n",
      "  development/NN\n",
      "  ,/,\n",
      "  and/CC\n",
      "  contributing/VBG\n",
      "  to/TO\n",
      "  the/DT\n",
      "  betterment/NN\n",
      "  of/IN\n",
      "  society/NN)\n"
     ]
    },
    {
     "name": "stderr",
     "output_type": "stream",
     "text": [
      "[nltk_data] Downloading package maxent_ne_chunker to\n",
      "[nltk_data]     C:\\Users\\Lenovo\\AppData\\Roaming\\nltk_data...\n",
      "[nltk_data]   Package maxent_ne_chunker is already up-to-date!\n",
      "[nltk_data] Downloading package words to\n",
      "[nltk_data]     C:\\Users\\Lenovo\\AppData\\Roaming\\nltk_data...\n",
      "[nltk_data]   Package words is already up-to-date!\n"
     ]
    }
   ],
   "source": [
    "nltk.download('maxent_ne_chunker')\n",
    "nltk.download('words')\n",
    "ne = nltk.ne_chunk(tags,binary=True)\n",
    "print(ne)"
   ]
  },
  {
   "cell_type": "code",
   "execution_count": 23,
   "metadata": {},
   "outputs": [
    {
     "data": {
      "text/plain": [
       "[('choosing', 'VBG', 'O'),\n",
       " ('to', 'TO', 'O'),\n",
       " ('become', 'VB', 'O'),\n",
       " ('an', 'DT', 'O'),\n",
       " ('engineer', 'NN', 'O'),\n",
       " ('can', 'MD', 'O'),\n",
       " ('be', 'VB', 'O'),\n",
       " ('driven', 'VBN', 'O'),\n",
       " ('by', 'IN', 'O'),\n",
       " ('a', 'DT', 'O'),\n",
       " ('passion', 'NN', 'O'),\n",
       " ('for', 'IN', 'O'),\n",
       " ('problem-solving', 'NN', 'O'),\n",
       " (',', ',', 'O'),\n",
       " ('a', 'DT', 'O'),\n",
       " ('desire', 'NN', 'O'),\n",
       " ('to', 'TO', 'O'),\n",
       " ('make', 'VB', 'O'),\n",
       " ('a', 'DT', 'O'),\n",
       " ('positive', 'JJ', 'O'),\n",
       " ('impact', 'NN', 'O'),\n",
       " (',', ',', 'O'),\n",
       " ('and', 'CC', 'O'),\n",
       " ('an', 'DT', 'O'),\n",
       " ('interest', 'NN', 'O'),\n",
       " ('in', 'IN', 'O'),\n",
       " ('technical', 'JJ', 'O'),\n",
       " ('fields', 'NNS', 'O'),\n",
       " ('.', '.', 'O'),\n",
       " ('It', 'PRP', 'O'),\n",
       " ('is', 'VBZ', 'O'),\n",
       " ('a', 'DT', 'O'),\n",
       " ('career', 'NN', 'O'),\n",
       " ('path', 'NN', 'O'),\n",
       " ('that', 'IN', 'O'),\n",
       " ('offers', 'VBZ', 'O'),\n",
       " ('opportunities', 'NNS', 'O'),\n",
       " ('for', 'IN', 'O'),\n",
       " ('personal', 'JJ', 'O'),\n",
       " ('growth', 'NN', 'O'),\n",
       " (',', ',', 'O'),\n",
       " ('professional', 'JJ', 'O'),\n",
       " ('development', 'NN', 'O'),\n",
       " (',', ',', 'O'),\n",
       " ('and', 'CC', 'O'),\n",
       " ('contributing', 'VBG', 'O'),\n",
       " ('to', 'TO', 'O'),\n",
       " ('the', 'DT', 'O'),\n",
       " ('betterment', 'NN', 'O'),\n",
       " ('of', 'IN', 'O'),\n",
       " ('society', 'NN', 'O')]"
      ]
     },
     "execution_count": 23,
     "metadata": {},
     "output_type": "execute_result"
    }
   ],
   "source": [
    "from nltk.chunk import tree2conlltags\n",
    "iob = tree2conlltags(ne)\n",
    "iob"
   ]
  },
  {
   "cell_type": "code",
   "execution_count": null,
   "metadata": {},
   "outputs": [],
   "source": []
  },
  {
   "cell_type": "code",
   "execution_count": null,
   "metadata": {},
   "outputs": [],
   "source": []
  },
  {
   "cell_type": "code",
   "execution_count": null,
   "metadata": {},
   "outputs": [],
   "source": []
  }
 ],
 "metadata": {
  "kernelspec": {
   "display_name": "Python 3",
   "language": "python",
   "name": "python3"
  },
  "language_info": {
   "codemirror_mode": {
    "name": "ipython",
    "version": 3
   },
   "file_extension": ".py",
   "mimetype": "text/x-python",
   "name": "python",
   "nbconvert_exporter": "python",
   "pygments_lexer": "ipython3",
   "version": "3.11.1"
  }
 },
 "nbformat": 4,
 "nbformat_minor": 2
}
